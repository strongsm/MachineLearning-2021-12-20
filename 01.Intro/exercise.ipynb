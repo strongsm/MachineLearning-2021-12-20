{
 "cells": [
  {
   "cell_type": "code",
   "execution_count": 1,
   "metadata": {},
   "outputs": [],
   "source": [
    "def func(name, age, addr='양평역'):\n",
    "    print(name, age, addr)"
   ]
  },
  {
   "cell_type": "code",
   "execution_count": 2,
   "metadata": {},
   "outputs": [
    {
     "name": "stdout",
     "output_type": "stream",
     "text": [
      "마리아 25 양평역\n"
     ]
    }
   ],
   "source": [
    "func(name='마리아', age=25)"
   ]
  },
  {
   "cell_type": "code",
   "execution_count": 3,
   "metadata": {},
   "outputs": [],
   "source": [
    "# polymorphisim(다형성) : overriding, overloading\n",
    "# overriding - 상속받은 다음에 재 정의하는 것\n",
    "# overloading - 동일한 함수 이름(argument)을 여러가지로 받을 수 있게 함\n",
    "\n",
    "# 부모가 만든 클래스에 있는 속성값(attribute)과 메소드를 상속받은 자식이 그대로 쓸 수 있다. - 객체지향\n",
    "# 부모가 만든 버전을 내 버전으로 바꾸고 싶을 때 쓰는게 overriding\n",
    "\n",
    "from sklearn.base import BaseEstimator\n",
    "\n",
    "class MyClassfier(BaseEstimator):\n",
    "    def fit(self, x, y):\n",
    "        pass\n",
    "    def predict(self, x):\n",
    "        pass\n",
    "    def score(self, x, y):\n",
    "        pass"
   ]
  },
  {
   "cell_type": "code",
   "execution_count": 4,
   "metadata": {},
   "outputs": [],
   "source": [
    "def func1(a, b):\n",
    "    \"\"\"이곳은 함수에 대한 설명을 적는 부분입니다.\n",
    "    인수a는 어쩌구 저쩌구 b는 어떠구 저쩌구\"\"\"\n",
    "    pass"
   ]
  },
  {
   "cell_type": "code",
   "execution_count": 5,
   "metadata": {},
   "outputs": [],
   "source": [
    "# 키워드 인수가 위치 인수보다 앞에 위치할 수 없음 뒤쪽에 나와야함\n",
    "\n",
    "func1(b=2, a=1)"
   ]
  },
  {
   "cell_type": "code",
   "execution_count": null,
   "metadata": {},
   "outputs": [],
   "source": []
  }
 ],
 "metadata": {
  "interpreter": {
   "hash": "b3ba2566441a7c06988d0923437866b63cedc61552a5af99d1f4fb67d367b25f"
  },
  "kernelspec": {
   "display_name": "Python 3.9.7 64-bit ('base': conda)",
   "language": "python",
   "name": "python3"
  },
  "language_info": {
   "codemirror_mode": {
    "name": "ipython",
    "version": 3
   },
   "file_extension": ".py",
   "mimetype": "text/x-python",
   "name": "python",
   "nbconvert_exporter": "python",
   "pygments_lexer": "ipython3",
   "version": "3.9.7"
  },
  "orig_nbformat": 4
 },
 "nbformat": 4,
 "nbformat_minor": 2
}
