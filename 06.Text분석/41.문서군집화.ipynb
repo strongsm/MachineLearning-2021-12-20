{
 "cells": [
  {
   "cell_type": "markdown",
   "metadata": {},
   "source": [
    "# 문서 군집화 - Opinion Review dataset"
   ]
  },
  {
   "cell_type": "code",
   "execution_count": 5,
   "metadata": {},
   "outputs": [
    {
     "data": {
      "text/plain": [
       "'OpinosisDataset1.0/topics\\\\*.data'"
      ]
     },
     "execution_count": 5,
     "metadata": {},
     "output_type": "execute_result"
    }
   ],
   "source": [
    "import pandas as pd\n",
    "import glob, os\n",
    "\n",
    "path = 'OpinosisDataset1.0/topics'\n",
    "os.path.join(path, '*.data')      # Windows - \\\\, Mac - /"
   ]
  },
  {
   "cell_type": "code",
   "execution_count": 6,
   "metadata": {},
   "outputs": [
    {
     "data": {
      "text/plain": [
       "['OpinosisDataset1.0/topics\\\\accuracy_garmin_nuvi_255W_gps.txt.data',\n",
       " 'OpinosisDataset1.0/topics\\\\bathroom_bestwestern_hotel_sfo.txt.data',\n",
       " 'OpinosisDataset1.0/topics\\\\battery-life_amazon_kindle.txt.data',\n",
       " 'OpinosisDataset1.0/topics\\\\battery-life_ipod_nano_8gb.txt.data',\n",
       " 'OpinosisDataset1.0/topics\\\\battery-life_netbook_1005ha.txt.data']"
      ]
     },
     "execution_count": 6,
     "metadata": {},
     "output_type": "execute_result"
    }
   ],
   "source": [
    "all_files = glob.glob(os.path.join(path, '*.data'))\n",
    "all_files[:5]"
   ]
  },
  {
   "cell_type": "code",
   "execution_count": 7,
   "metadata": {},
   "outputs": [
    {
     "data": {
      "text/plain": [
       "'OpinosisDataset1.0/topics\\\\accuracy_garmin_nuvi_255W_gps.txt.data'"
      ]
     },
     "execution_count": 7,
     "metadata": {},
     "output_type": "execute_result"
    }
   ],
   "source": [
    "file = all_files[0]\n",
    "file"
   ]
  },
  {
   "cell_type": "code",
   "execution_count": 8,
   "metadata": {},
   "outputs": [
    {
     "data": {
      "text/plain": [
       "'accuracy_garmin_nuvi_255W_gps.txt.data'"
      ]
     },
     "execution_count": 8,
     "metadata": {},
     "output_type": "execute_result"
    }
   ],
   "source": [
    "file.split('\\\\')[-1].split(',')[0]"
   ]
  },
  {
   "cell_type": "code",
   "execution_count": 9,
   "metadata": {},
   "outputs": [
    {
     "data": {
      "text/html": [
       "<div>\n",
       "<style scoped>\n",
       "    .dataframe tbody tr th:only-of-type {\n",
       "        vertical-align: middle;\n",
       "    }\n",
       "\n",
       "    .dataframe tbody tr th {\n",
       "        vertical-align: top;\n",
       "    }\n",
       "\n",
       "    .dataframe thead th {\n",
       "        text-align: right;\n",
       "    }\n",
       "</style>\n",
       "<table border=\"1\" class=\"dataframe\">\n",
       "  <thead>\n",
       "    <tr style=\"text-align: right;\">\n",
       "      <th></th>\n",
       "      <th>filename</th>\n",
       "      <th>opinion</th>\n",
       "    </tr>\n",
       "  </thead>\n",
       "  <tbody>\n",
       "    <tr>\n",
       "      <th>0</th>\n",
       "      <td>accuracy_garmin_nuvi_255W_gps.txt.data</td>\n",
       "      <td>, and is very, very accurate .\\n but for the m...</td>\n",
       "    </tr>\n",
       "    <tr>\n",
       "      <th>1</th>\n",
       "      <td>bathroom_bestwestern_hotel_sfo.txt.data</td>\n",
       "      <td>The room was not overly big, but clean and ve...</td>\n",
       "    </tr>\n",
       "    <tr>\n",
       "      <th>2</th>\n",
       "      <td>battery-life_amazon_kindle.txt.data</td>\n",
       "      <td>After I plugged it in to my USB hub on my com...</td>\n",
       "    </tr>\n",
       "  </tbody>\n",
       "</table>\n",
       "</div>"
      ],
      "text/plain": [
       "                                  filename  \\\n",
       "0   accuracy_garmin_nuvi_255W_gps.txt.data   \n",
       "1  bathroom_bestwestern_hotel_sfo.txt.data   \n",
       "2      battery-life_amazon_kindle.txt.data   \n",
       "\n",
       "                                             opinion  \n",
       "0  , and is very, very accurate .\\n but for the m...  \n",
       "1   The room was not overly big, but clean and ve...  \n",
       "2   After I plugged it in to my USB hub on my com...  "
      ]
     },
     "execution_count": 9,
     "metadata": {},
     "output_type": "execute_result"
    }
   ],
   "source": [
    "filename_list = []\n",
    "opinion_text = []\n",
    "for file in glob.glob(os.path.join(path, '*.data')):\n",
    "    with open(file, encoding='latin1') as f:\n",
    "        text = f.read()\n",
    "    opinion_text.append(text)\n",
    "    filename = file.split('\\\\')[-1].split(',')[0]\n",
    "    filename_list.append(filename)\n",
    "\n",
    "df = pd.DataFrame({'filename':filename_list, 'opinion':opinion_text})\n",
    "df.head(3)"
   ]
  },
  {
   "cell_type": "markdown",
   "metadata": {},
   "source": [
    "- Simple tokenizer 함수를 이용해 feature 변환"
   ]
  },
  {
   "cell_type": "code",
   "execution_count": 10,
   "metadata": {},
   "outputs": [],
   "source": [
    "from nltk import word_tokenize\n",
    "\n",
    "def simple_tokenizer(text):           # 글자수가 2개 이하인 토큰은 제거\n",
    "    return [word for word in word_tokenize(text) if len(word) > 2]    "
   ]
  },
  {
   "cell_type": "code",
   "execution_count": 11,
   "metadata": {},
   "outputs": [],
   "source": [
    "from sklearn.feature_extraction.text import TfidfVectorizer\n",
    "\n",
    "tvect = TfidfVectorizer(tokenizer=simple_tokenizer, stop_words='english',\n",
    "                        ngram_range=(1,2), min_df=0.05, max_df=0.85)\n",
    "feature = tvect.fit_transform(df.opinion)"
   ]
  },
  {
   "cell_type": "markdown",
   "metadata": {},
   "source": [
    "- 군집화"
   ]
  },
  {
   "cell_type": "code",
   "execution_count": 12,
   "metadata": {},
   "outputs": [
    {
     "data": {
      "text/plain": [
       "KMeans(max_iter=10000, n_clusters=5, random_state=2022)"
      ]
     },
     "execution_count": 12,
     "metadata": {},
     "output_type": "execute_result"
    }
   ],
   "source": [
    "from sklearn.cluster import KMeans\n",
    "\n",
    "kmeans = KMeans(n_clusters=5, max_iter=10000, random_state=2022)\n",
    "kmeans.fit(feature)"
   ]
  },
  {
   "cell_type": "code",
   "execution_count": 13,
   "metadata": {},
   "outputs": [
    {
     "data": {
      "text/html": [
       "<div>\n",
       "<style scoped>\n",
       "    .dataframe tbody tr th:only-of-type {\n",
       "        vertical-align: middle;\n",
       "    }\n",
       "\n",
       "    .dataframe tbody tr th {\n",
       "        vertical-align: top;\n",
       "    }\n",
       "\n",
       "    .dataframe thead th {\n",
       "        text-align: right;\n",
       "    }\n",
       "</style>\n",
       "<table border=\"1\" class=\"dataframe\">\n",
       "  <thead>\n",
       "    <tr style=\"text-align: right;\">\n",
       "      <th></th>\n",
       "      <th>filename</th>\n",
       "      <th>opinion</th>\n",
       "      <th>cluster</th>\n",
       "    </tr>\n",
       "  </thead>\n",
       "  <tbody>\n",
       "    <tr>\n",
       "      <th>0</th>\n",
       "      <td>accuracy_garmin_nuvi_255W_gps.txt.data</td>\n",
       "      <td>, and is very, very accurate .\\n but for the m...</td>\n",
       "      <td>0</td>\n",
       "    </tr>\n",
       "    <tr>\n",
       "      <th>1</th>\n",
       "      <td>bathroom_bestwestern_hotel_sfo.txt.data</td>\n",
       "      <td>The room was not overly big, but clean and ve...</td>\n",
       "      <td>2</td>\n",
       "    </tr>\n",
       "    <tr>\n",
       "      <th>2</th>\n",
       "      <td>battery-life_amazon_kindle.txt.data</td>\n",
       "      <td>After I plugged it in to my USB hub on my com...</td>\n",
       "      <td>1</td>\n",
       "    </tr>\n",
       "    <tr>\n",
       "      <th>3</th>\n",
       "      <td>battery-life_ipod_nano_8gb.txt.data</td>\n",
       "      <td>short battery life  I moved up from an 8gb .\\...</td>\n",
       "      <td>1</td>\n",
       "    </tr>\n",
       "    <tr>\n",
       "      <th>4</th>\n",
       "      <td>battery-life_netbook_1005ha.txt.data</td>\n",
       "      <td>6GHz 533FSB cpu, glossy display, 3, Cell 23Wh ...</td>\n",
       "      <td>1</td>\n",
       "    </tr>\n",
       "  </tbody>\n",
       "</table>\n",
       "</div>"
      ],
      "text/plain": [
       "                                  filename  \\\n",
       "0   accuracy_garmin_nuvi_255W_gps.txt.data   \n",
       "1  bathroom_bestwestern_hotel_sfo.txt.data   \n",
       "2      battery-life_amazon_kindle.txt.data   \n",
       "3      battery-life_ipod_nano_8gb.txt.data   \n",
       "4     battery-life_netbook_1005ha.txt.data   \n",
       "\n",
       "                                             opinion  cluster  \n",
       "0  , and is very, very accurate .\\n but for the m...        0  \n",
       "1   The room was not overly big, but clean and ve...        2  \n",
       "2   After I plugged it in to my USB hub on my com...        1  \n",
       "3   short battery life  I moved up from an 8gb .\\...        1  \n",
       "4  6GHz 533FSB cpu, glossy display, 3, Cell 23Wh ...        1  "
      ]
     },
     "execution_count": 13,
     "metadata": {},
     "output_type": "execute_result"
    }
   ],
   "source": [
    "df['cluster'] = kmeans.labels_\n",
    "df.head()"
   ]
  },
  {
   "cell_type": "code",
   "execution_count": 14,
   "metadata": {},
   "outputs": [
    {
     "data": {
      "text/plain": [
       "2    16\n",
       "3    13\n",
       "4    10\n",
       "0     7\n",
       "1     5\n",
       "Name: cluster, dtype: int64"
      ]
     },
     "execution_count": 14,
     "metadata": {},
     "output_type": "execute_result"
    }
   ],
   "source": [
    "df.cluster.value_counts()"
   ]
  },
  {
   "cell_type": "code",
   "execution_count": 15,
   "metadata": {},
   "outputs": [
    {
     "data": {
      "text/plain": [
       "0    25\n",
       "1    16\n",
       "2    10\n",
       "Name: cluster_label, dtype: int64"
      ]
     },
     "execution_count": 15,
     "metadata": {},
     "output_type": "execute_result"
    }
   ],
   "source": [
    "# 3개의 집합으로 군집화\n",
    "kmeans = KMeans(n_clusters=3, max_iter=10000, random_state=2022)\n",
    "kmeans.fit(feature)\n",
    "df['cluster_label'] = kmeans.labels_\n",
    "df.cluster_label.value_counts()"
   ]
  },
  {
   "cell_type": "markdown",
   "metadata": {},
   "source": [
    "- 군집별 핵심 단어 추출하기"
   ]
  },
  {
   "cell_type": "code",
   "execution_count": 16,
   "metadata": {},
   "outputs": [
    {
     "data": {
      "text/plain": [
       "(51, 4154)"
      ]
     },
     "execution_count": 16,
     "metadata": {},
     "output_type": "execute_result"
    }
   ],
   "source": [
    "feature.shape\n"
   ]
  },
  {
   "cell_type": "code",
   "execution_count": 17,
   "metadata": {},
   "outputs": [
    {
     "data": {
      "text/plain": [
       "(3, 4154)"
      ]
     },
     "execution_count": 17,
     "metadata": {},
     "output_type": "execute_result"
    }
   ],
   "source": [
    "cluster_centers = kmeans.cluster_centers_\n",
    "cluster_centers.shape"
   ]
  },
  {
   "cell_type": "code",
   "execution_count": 30,
   "metadata": {},
   "outputs": [
    {
     "ename": "ImportError",
     "evalue": "cannot import name 'get_cluster_details' from 'cluster' (C:\\ProgramData\\Anaconda3\\lib\\site-packages\\cluster\\__init__.py)",
     "output_type": "error",
     "traceback": [
      "\u001b[1;31m---------------------------------------------------------------------------\u001b[0m",
      "\u001b[1;31mImportError\u001b[0m                               Traceback (most recent call last)",
      "\u001b[1;32m~\\AppData\\Local\\Temp/ipykernel_3636/3829319386.py\u001b[0m in \u001b[0;36m<module>\u001b[1;34m\u001b[0m\n\u001b[1;32m----> 1\u001b[1;33m \u001b[1;32mfrom\u001b[0m \u001b[0mcluster\u001b[0m \u001b[1;32mimport\u001b[0m \u001b[0mget_cluster_details\u001b[0m\u001b[1;33m\u001b[0m\u001b[1;33m\u001b[0m\u001b[0m\n\u001b[0m\u001b[0;32m      2\u001b[0m \u001b[1;33m\u001b[0m\u001b[0m\n\u001b[0;32m      3\u001b[0m \u001b[0mfeature_names\u001b[0m \u001b[1;33m=\u001b[0m \u001b[0mtvect\u001b[0m\u001b[1;33m.\u001b[0m\u001b[0mget_feature_names\u001b[0m\u001b[1;33m(\u001b[0m\u001b[1;33m)\u001b[0m\u001b[1;33m\u001b[0m\u001b[1;33m\u001b[0m\u001b[0m\n\u001b[0;32m      4\u001b[0m cluster_details = get_cluster_details(cluster_model=kmeans, cluster_data=df,\n\u001b[0;32m      5\u001b[0m                                       feature_names=feature_names, clusters_num=3, top_n_features=10)\n",
      "\u001b[1;31mImportError\u001b[0m: cannot import name 'get_cluster_details' from 'cluster' (C:\\ProgramData\\Anaconda3\\lib\\site-packages\\cluster\\__init__.py)"
     ]
    }
   ],
   "source": [
    "from cluster import get_cluster_details\n",
    "\n",
    "feature_names = tvect.get_feature_names()\n",
    "cluster_details = get_cluster_details(cluster_model=kmeans, cluster_data=df,\n",
    "                                      feature_names=feature_names, clusters_num=3, top_n_features=10)"
   ]
  },
  {
   "cell_type": "code",
   "execution_count": null,
   "metadata": {},
   "outputs": [],
   "source": [
    "for cluster_num, cluster_detail in cluster_details.items():\n",
    "    print(f'####### Cluster {cluster_num}')\n",
    "    print('Top features:', cluster_detail['top_features'])\n",
    "    print('Reviews 파일명:', cluster_detail['filenames'][:7])\n",
    "    print('==================================================')\n"
   ]
  }
 ],
 "metadata": {
  "interpreter": {
   "hash": "b3ba2566441a7c06988d0923437866b63cedc61552a5af99d1f4fb67d367b25f"
  },
  "kernelspec": {
   "display_name": "Python 3.9.7 64-bit ('base': conda)",
   "language": "python",
   "name": "python3"
  },
  "language_info": {
   "codemirror_mode": {
    "name": "ipython",
    "version": 3
   },
   "file_extension": ".py",
   "mimetype": "text/x-python",
   "name": "python",
   "nbconvert_exporter": "python",
   "pygments_lexer": "ipython3",
   "version": "3.9.7"
  },
  "orig_nbformat": 4
 },
 "nbformat": 4,
 "nbformat_minor": 2
}
